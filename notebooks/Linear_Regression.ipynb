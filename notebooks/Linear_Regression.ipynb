{
 "cells": [
  {
   "cell_type": "markdown",
   "id": "4aa18835",
   "metadata": {},
   "source": [
    "# Linear Regression from Scratch — With Gradient Descent 🧠📉\n",
    "\n",
    "This notebook walks you through implementing linear regression from scratch using gradient descent.\n",
    "We'll start by understanding the key concepts, move to code each part step-by-step, and finally evaluate our model!\n",
    "\n",
    "**Topics Covered:**\n",
    "- Linear Regression Overview\n",
    "- Loss Function (MSE)\n",
    "- Gradient Descent\n",
    "- Training and Evaluation\n"
   ]
  },
  {
   "cell_type": "code",
   "execution_count": null,
   "id": "5f3a1074",
   "metadata": {},
   "outputs": [],
   "source": [
    "from sklearn.datasets import fetch_california_housing\n",
    "from sklearn.model_selection import train_test_split\n",
    "from sklearn.preprocessing import StandardScaler\n",
    "\n",
    "# Load the dataset\n",
    "housing = fetch_california_housing()\n",
    "X = housing.data\n",
    "y = housing.target\n",
    "\n",
    "# Split into train and test sets\n",
    "X_train, X_test, y_train, y_test = train_test_split(X, y, test_size=0.2, random_state=42)\n",
    "\n",
    "# Scale the data\n",
    "scaler = StandardScaler()\n",
    "X_train_scaled = scaler.fit_transform(X_train)\n",
    "X_test_scaled = scaler.transform(X_test)\n"
   ]
  },
  {
   "cell_type": "code",
   "execution_count": null,
   "id": "f603a8c1",
   "metadata": {},
   "outputs": [],
   "source": [
    "from sklearn.linear_model import LinearRegression\n",
    "from sklearn.metrics import mean_squared_error, r2_score\n",
    "\n",
    "# Fit model using sklearn\n",
    "model = LinearRegression()\n",
    "model.fit(X_train_scaled, y_train)\n",
    "y_pred = model.predict(X_test_scaled)\n",
    "\n",
    "# Evaluate\n",
    "print(\"Sklearn MSE:\", mean_squared_error(y_test, y_pred))\n",
    "print(\"Sklearn R2:\", r2_score(y_test, y_pred))\n"
   ]
  },
  {
   "cell_type": "code",
   "execution_count": null,
   "id": "96b020dc",
   "metadata": {},
   "outputs": [],
   "source": [
    "import numpy as np\n",
    "\n",
    "def predict(X, weights, bias):\n",
    "    \"\"\"Generate predictions using current weights and bias.\"\"\"\n",
    "    return np.dot(X, weights) + bias\n"
   ]
  },
  {
   "cell_type": "code",
   "execution_count": null,
   "id": "413820e6",
   "metadata": {},
   "outputs": [],
   "source": [
    "def compute_loss(y_true, y_pred):\n",
    "    \"\"\"Calculate Mean Squared Error (MSE).\"\"\"\n",
    "    return np.mean((y_true - y_pred) ** 2)\n"
   ]
  },
  {
   "cell_type": "code",
   "execution_count": null,
   "id": "bce5f4af",
   "metadata": {},
   "outputs": [],
   "source": [
    "def compute_gradients(X, y_true, y_pred):\n",
    "    \"\"\"Calculate gradients for weights and bias.\"\"\"\n",
    "    n = X.shape[0]\n",
    "    dw = -2/n * np.dot(X.T, (y_true - y_pred))\n",
    "    db = -2/n * np.sum(y_true - y_pred)\n",
    "    return dw, db\n"
   ]
  },
  {
   "cell_type": "code",
   "execution_count": null,
   "id": "14d69268",
   "metadata": {},
   "outputs": [],
   "source": [
    "def train(X, y, lr=0.01, epochs=1000):\n",
    "    \"\"\"Train linear regression using gradient descent.\"\"\"\n",
    "    n_features = X.shape[1]\n",
    "    weights = np.zeros(n_features)\n",
    "    bias = 0\n",
    "\n",
    "    for i in range(epochs):\n",
    "        y_pred = predict(X, weights, bias)\n",
    "        loss = compute_loss(y, y_pred)\n",
    "        dw, db = compute_gradients(X, y, y_pred)\n",
    "        weights -= lr * dw\n",
    "        bias -= lr * db\n",
    "        if i % 100 == 0:\n",
    "            print(f\"Epoch {i}, Loss: {loss:.4f}\")\n",
    "    return weights, bias\n"
   ]
  },
  {
   "cell_type": "code",
   "execution_count": null,
   "id": "d38e7af6",
   "metadata": {},
   "outputs": [],
   "source": [
    "# Train from scratch\n",
    "weights, bias = train(X_train_scaled, y_train)\n",
    "\n",
    "# Predict and evaluate\n",
    "y_pred_custom = predict(X_test_scaled, weights, bias)\n",
    "\n",
    "mse_custom = compute_loss(y_test, y_pred_custom)\n",
    "r2_custom = r2_score(y_test, y_pred_custom)\n",
    "\n",
    "print(\"Custom Model MSE:\", mse_custom)\n",
    "print(\"Custom Model R2:\", r2_custom)\n"
   ]
  }
 ],
 "metadata": {},
 "nbformat": 4,
 "nbformat_minor": 5
}
